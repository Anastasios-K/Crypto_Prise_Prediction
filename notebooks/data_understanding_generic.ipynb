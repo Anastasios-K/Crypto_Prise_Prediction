{
 "cells": [
  {
   "cell_type": "code",
   "execution_count": null,
   "id": "e575571e",
   "metadata": {},
   "outputs": [],
   "source": [
    "import os\n",
    "import pandas as pd\n",
    "import matplotlib.pyplot as plt"
   ]
  },
  {
   "cell_type": "code",
   "execution_count": null,
   "id": "d3e23d46",
   "metadata": {},
   "outputs": [],
   "source": [
    "# Add the data path elements separated by commas\n",
    "url_list = []"
   ]
  },
  {
   "cell_type": "code",
   "execution_count": null,
   "id": "3a6fcaec",
   "metadata": {},
   "outputs": [],
   "source": [
    "def read_data():\n",
    "    df = pd.read_csv(os.path.join(*url_list))\n",
    "    print(df.head(10))\n",
    "    return df"
   ]
  },
  {
   "cell_type": "code",
   "execution_count": null,
   "id": "9859371e",
   "metadata": {},
   "outputs": [],
   "source": [
    "def ploat_closing_pices(df, time_col_name: str, closing_price_col_name: str):\n",
    "    plt.plot(df[time_col_name], df[closing_price_col_name])"
   ]
  },
  {
   "cell_type": "code",
   "execution_count": null,
   "id": "3d01b135",
   "metadata": {},
   "outputs": [],
   "source": [
    "def describdata(df):\n",
    "    print(df.describe())"
   ]
  },
  {
   "cell_type": "code",
   "execution_count": null,
   "id": "5ed9ad99",
   "metadata": {},
   "outputs": [],
   "source": []
  }
 ],
 "metadata": {
  "kernelspec": {
   "display_name": "Python 3 (ipykernel)",
   "language": "python",
   "name": "python3"
  },
  "language_info": {
   "codemirror_mode": {
    "name": "ipython",
    "version": 3
   },
   "file_extension": ".py",
   "mimetype": "text/x-python",
   "name": "python",
   "nbconvert_exporter": "python",
   "pygments_lexer": "ipython3",
   "version": "3.8.10"
  }
 },
 "nbformat": 4,
 "nbformat_minor": 5
}
