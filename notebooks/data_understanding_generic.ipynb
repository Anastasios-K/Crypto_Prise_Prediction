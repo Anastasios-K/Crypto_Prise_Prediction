{
 "cells": [
  {
   "cell_type": "code",
   "execution_count": 56,
   "id": "93b49f64",
   "metadata": {},
   "outputs": [],
   "source": [
    "import os\n",
    "import time\n",
    "import pandas as pd\n",
    "import matplotlib.pyplot as plt\n",
    "from colorama import Fore, Back, Style"
   ]
  },
  {
   "cell_type": "code",
   "execution_count": 57,
   "id": "f4d631a4",
   "metadata": {},
   "outputs": [],
   "source": [
    "# Add the data path elements separated by commas\n",
    "url_list = [\"..\", \"data\", \"btcusd.csv\"]"
   ]
  },
  {
   "cell_type": "code",
   "execution_count": 58,
   "id": "ad914fcd",
   "metadata": {},
   "outputs": [],
   "source": [
    "def read_data():\n",
    "    df = pd.read_csv(os.path.join(*url_list))\n",
    "    print(Style.BRIGHT + Back.YELLOW + Fore.RED + \"Data HEAD\")\n",
    "    print(Style.BRIGHT + Back.WHITE + Fore.BLACK + f\"{df.head(10)}\")\n",
    "    print(Style.BRIGHT + Back.YELLOW + Fore.RED + \"Data TAIL\")\n",
    "    print(Style.BRIGHT + Back.WHITE + Fore.BLACK + f\"{df.tail(10)}\")\n",
    "    return df"
   ]
  },
  {
   "cell_type": "code",
   "execution_count": 59,
   "id": "bd7e0023",
   "metadata": {},
   "outputs": [],
   "source": [
    "def describe_data(df):\n",
    "    print(Style.BRIGHT + Back.YELLOW + Fore.RED + \"Descriptive Statistics\")\n",
    "    print(Style.BRIGHT + Back.WHITE + Fore.BLACK + f\"{df.describe()}\")"
   ]
  },
  {
   "cell_type": "code",
   "execution_count": 60,
   "id": "f0c6461a",
   "metadata": {},
   "outputs": [],
   "source": [
    "def plot_closing_pices(df, time_col_name: str, closing_price_col_name: str):\n",
    "    time.sleep(2)\n",
    "    print(Style.BRIGHT + Back.YELLOW + Fore.RED + \"Closing prices basic plot\")\n",
    "    plt.plot(df[time_col_name], df[closing_price_col_name])"
   ]
  },
  {
   "cell_type": "code",
   "execution_count": 61,
   "id": "7f0b9f08",
   "metadata": {},
   "outputs": [],
   "source": [
    "def main():\n",
    "    df = read_data()\n",
    "    describe_data(df=df)\n",
    "    plot_closing_pices(\n",
    "        df=df, \n",
    "        time_col_name=\"time\",\n",
    "        closing_price_col_name=\"close\"\n",
    "    )"
   ]
  },
  {
   "cell_type": "code",
   "execution_count": 62,
   "id": "222359b7",
   "metadata": {},
   "outputs": [
    {
     "name": "stdout",
     "output_type": "stream",
     "text": [
      "\u001b[1m\u001b[43m\u001b[31mData HEAD\n",
      "\u001b[1m\u001b[47m\u001b[30m            time       open      close       high        low     volume\n",
      "0  1364774820000   93.25000   93.30000   93.30000   93.25000  93.300000\n",
      "1  1364774880000  100.00000  100.00000  100.00000  100.00000  93.300000\n",
      "2  1364774940000   93.30000   93.30000   93.30000   93.30000  33.676862\n",
      "3  1364775060000   93.35000   93.47000   93.47000   93.35000  20.000000\n",
      "4  1364775120000   93.47000   93.47000   93.47000   93.47000   2.021627\n",
      "5  1364775180000   93.03001   93.03000   93.03001   93.03000   4.985400\n",
      "6  1364775960000   93.04399   93.04399   93.04399   93.04399  12.689501\n",
      "7  1364776080000   93.34999   93.35000   93.35000   93.34999   5.000000\n",
      "8  1364776500000   93.19999   93.35000   93.35000   93.19999  40.000000\n",
      "9  1364777580000   93.25000   93.30000   93.30000   93.25000  18.300000\n",
      "\u001b[1m\u001b[43m\u001b[31mData TAIL\n",
      "\u001b[1m\u001b[47m\u001b[30m                  time          open         close          high  \\\n",
      "3882694  1653815760000  29046.000000  29046.766892  29046.766892   \n",
      "3882695  1653815820000  29046.766892  29046.000000  29046.766892   \n",
      "3882696  1653815880000  29046.000000  29025.000000  29046.766892   \n",
      "3882697  1653815940000  29024.199883  28984.278131  29024.199883   \n",
      "3882698  1653816000000  28985.000000  28988.572257  28990.116373   \n",
      "3882699  1653816060000  28988.000000  28984.000000  28988.000000   \n",
      "3882700  1653816120000  28984.000000  28969.000000  28985.000000   \n",
      "3882701  1653816180000  28970.000000  28978.000000  28978.000000   \n",
      "3882702  1653816240000  28969.000000  28979.000000  28981.000000   \n",
      "3882703  1653816300000  28976.000000  28980.674620  28980.674620   \n",
      "\n",
      "                  low    volume  \n",
      "3882694  29046.000000  0.000835  \n",
      "3882695  29046.000000  0.001338  \n",
      "3882696  29025.000000  1.010766  \n",
      "3882697  28980.000000  3.534714  \n",
      "3882698  28979.984004  5.260777  \n",
      "3882699  28969.000000  3.104842  \n",
      "3882700  28969.000000  0.705913  \n",
      "3882701  28970.000000  0.743593  \n",
      "3882702  28969.000000  0.242249  \n",
      "3882703  28976.000000  0.259808  \n",
      "\u001b[1m\u001b[43m\u001b[31mDescriptive Statistics\n",
      "\u001b[1m\u001b[47m\u001b[30m               time          open         close          high           low  \\\n",
      "count  3.882704e+06  3.882704e+06  3.882704e+06  3.882704e+06  3.882704e+06   \n",
      "mean   1.529366e+12  1.267307e+04  1.267309e+04  1.267953e+04  1.266662e+04   \n",
      "std    7.771763e+10  1.677927e+04  1.677932e+04  1.678778e+04  1.677080e+04   \n",
      "min    1.364775e+12  1.000000e-02  1.060000e+00  1.060000e+00  1.000000e-02   \n",
      "25%    1.469943e+12  7.125001e+02  7.125000e+02  7.129700e+02  7.121700e+02   \n",
      "50%    1.535520e+12  6.644400e+03  6.644300e+03  6.646100e+03  6.642246e+03   \n",
      "75%    1.595017e+12  1.147609e+04  1.147601e+04  1.148100e+04  1.147100e+04   \n",
      "max    1.653816e+12  6.892500e+04  6.892500e+04  6.895800e+04  6.873400e+04   \n",
      "\n",
      "             volume  \n",
      "count  3.882704e+06  \n",
      "mean   1.559778e+01  \n",
      "std    5.509120e+01  \n",
      "min    1.000000e-08  \n",
      "25%    5.000000e-01  \n",
      "50%    2.563862e+00  \n",
      "75%    1.112644e+01  \n",
      "max    7.228079e+03  \n",
      "\u001b[1m\u001b[43m\u001b[31mClosing prices basic plot\n"
     ]
    },
    {
     "data": {
      "image/png": "[encoded data removed]",
      "text/plain": [
       "<Figure size 432x288 with 1 Axes>"
      ]
     },
     "metadata": {
      "needs_background": "light"
     },
     "output_type": "display_data"
    }
   ],
   "source": [
    "main()"
   ]
  }
 ],
 "metadata": {
  "kernelspec": {
   "display_name": "Python 3 (ipykernel)",
   "language": "python",
   "name": "python3"
  },
  "language_info": {
   "codemirror_mode": {
    "name": "ipython",
    "version": 3
   },
   "file_extension": ".py",
   "mimetype": "text/x-python",
   "name": "python",
   "nbconvert_exporter": "python",
   "pygments_lexer": "ipython3",
   "version": "3.8.10"
  }
 },
 "nbformat": 4,
 "nbformat_minor": 5
}
